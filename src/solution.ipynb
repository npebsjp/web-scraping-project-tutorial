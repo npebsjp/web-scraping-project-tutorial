{
    "cells": [
        {
            "cell_type": "markdown",
            "metadata": {},
            "source": [
                "# Web Scraping solution\n"
            ]
        },
        {
            "cell_type": "markdown",
            "metadata": {},
            "source": [
                "## Step 1: Install dependencies"
            ]
        },
        {
            "cell_type": "code",
            "execution_count": 2,
            "metadata": {},
            "outputs": [
                {
                    "name": "stdout",
                    "output_type": "stream",
                    "text": [
                        "Defaulting to user installation because normal site-packages is not writeable\n",
                        "Requirement already satisfied: pandas in /home/vscode/.local/lib/python3.11/site-packages (2.2.3)\n",
                        "Requirement already satisfied: requests in /home/vscode/.local/lib/python3.11/site-packages (2.27.1)\n",
                        "Requirement already satisfied: numpy>=1.23.2 in /home/vscode/.local/lib/python3.11/site-packages (from pandas) (2.2.1)\n",
                        "Requirement already satisfied: python-dateutil>=2.8.2 in /home/vscode/.local/lib/python3.11/site-packages (from pandas) (2.9.0.post0)\n",
                        "Requirement already satisfied: pytz>=2020.1 in /home/vscode/.local/lib/python3.11/site-packages (from pandas) (2024.2)\n",
                        "Requirement already satisfied: tzdata>=2022.7 in /home/vscode/.local/lib/python3.11/site-packages (from pandas) (2024.2)\n",
                        "Requirement already satisfied: urllib3<1.27,>=1.21.1 in /home/vscode/.local/lib/python3.11/site-packages (from requests) (1.26.20)\n",
                        "Requirement already satisfied: certifi>=2017.4.17 in /home/vscode/.local/lib/python3.11/site-packages (from requests) (2024.12.14)\n",
                        "Requirement already satisfied: charset-normalizer~=2.0.0 in /home/vscode/.local/lib/python3.11/site-packages (from requests) (2.0.12)\n",
                        "Requirement already satisfied: idna<4,>=2.5 in /home/vscode/.local/lib/python3.11/site-packages (from requests) (3.10)\n",
                        "Requirement already satisfied: six>=1.5 in /home/vscode/.local/lib/python3.11/site-packages (from python-dateutil>=2.8.2->pandas) (1.17.0)\n",
                        "\n",
                        "\u001b[1m[\u001b[0m\u001b[34;49mnotice\u001b[0m\u001b[1;39;49m]\u001b[0m\u001b[39;49m A new release of pip is available: \u001b[0m\u001b[31;49m23.1.2\u001b[0m\u001b[39;49m -> \u001b[0m\u001b[32;49m24.3.1\u001b[0m\n",
                        "\u001b[1m[\u001b[0m\u001b[34;49mnotice\u001b[0m\u001b[1;39;49m]\u001b[0m\u001b[39;49m To update, run: \u001b[0m\u001b[32;49mpip install --upgrade pip\u001b[0m\n",
                        "Note: you may need to restart the kernel to use updated packages.\n"
                    ]
                }
            ],
            "source": [
                "pip install pandas requests"
            ]
        },
        {
            "cell_type": "markdown",
            "metadata": {},
            "source": [
                "## Step 2: Download HTML"
            ]
        },
        {
            "cell_type": "code",
            "execution_count": 2,
            "metadata": {},
            "outputs": [
                {
                    "data": {
                        "text/plain": [
                            "'\\n<!DOCTYPE html>\\n<html lang=\"en-US\">\\n<head>\\n<title>Tesla (TSLA) - Revenue</title>\\n<meta charset=\"utf-8\"/>\\n<link rel=\"shortcut icon\" href=\"https://companiesmarketcap.com/favicon.ico\" type=\"image/x-icon\">\\n<link rel=\"apple-touch-icon\" sizes=\"57x57\" href=\"/img/icons/apple-icon-57x57.png\">\\n<link rel=\"apple-touch-icon\" sizes=\"60x60\" href=\"/img/icons/apple-icon-60x60.png\">\\n<link rel=\"apple-touch-icon\" sizes=\"72x72\" href=\"/img/icons/apple-icon-72x72.png\">\\n<link rel=\"apple-touch-icon\" sizes=\"76x76\" href=\"/img/icons/apple-icon-76x76.png\">\\n<link rel=\"apple-touch-icon\" sizes=\"114x114\" href=\"/img/icons/apple-icon-114x114.png\">\\n<link rel=\"apple-touch-icon\" sizes=\"120x120\" href=\"/img/icons/apple-icon-120x120.png\">\\n<link rel=\"apple-touch-icon\" sizes=\"144x144\" href=\"/img/icons/apple-icon-144x144.png\">\\n<link rel=\"apple-touch-icon\" sizes=\"152x152\" href=\"/img/icons/apple-icon-152x152.png\">\\n<link rel=\"apple-touch-icon\" sizes=\"180x180\" href=\"/img/icons/apple-icon-180x180.png\">\\n<link rel=\"icon\" type=\"image/png\" sizes=\"192x192\" href=\"/img/icons/android-icon-192x192.png\">\\n<link rel=\"icon\" type=\"image/png\" sizes=\"32x32\" href=\"/img/icons/favicon-32x32.png\">\\n<link rel=\"icon\" type=\"image/png\" sizes=\"96x96\" href=\"/img/icons/favicon-96x96.png\">\\n<link rel=\"icon\" type=\"image/png\" sizes=\"16x16\" href=\"/img/icons/favicon-16x16.png\">\\n<link rel=\"manifest\" href=\"/img/icons/manifest.json\">\\n<link rel=\"alternate\" hreflang=\"de\" href=\"https://companiesmarketcap.com/de/tesla/umsatz/\" />\\n<link rel=\"alternate\" hreflang=\"fr\" href=\"https://companiesmarketcap.com/fr/tesla/revenu/\" />\\n<link rel=\"alternate\" hreflang=\"en-US\" href=\"https://companiesmarketcap.com/tesla/revenue/\" />\\n<link rel=\"alternate\" hreflang=\"en-IE\" href=\"https://companiesmarketcap.com/eur/tesla/revenue/\" />\\n<link rel=\"alternate\" hreflang=\"en-IN\" href=\"https://companiesmarketcap.com/inr/tesla/revenue/\" />\\n<link rel=\"alternate\" hreflang=\"en-GB\" href=\"https://companiesmarketcap.com/gbp/tesla/revenue/\" />\\n<link rel=\"alternate\" hreflang=\"en-CA\" href=\"https://companiesmarketcap.com/cad/tesla/revenue/\" />\\n<link rel=\"alternate\" hreflang=\"en-AU\" href=\"https://companiesmarketcap.com/aud/tesla/revenue/\" />\\n<link rel=\"alternate\" hreflang=\"en-NZ\" href=\"https://companiesmarketcap.com/nzd/tesla/revenue/\" />\\n<link rel=\"alternate\" hreflang=\"en-HK\" href=\"https://companiesmarketcap.com/hkd/tesla/revenue/\" />\\n<link rel=\"alternate\" hreflang=\"en-SG\" href=\"https://companiesmarketcap.com/sgd/tesla/revenue/\" />\\n<link rel=\"canonical\" href=\"https://companiesmarketcap.com/tesla/revenue/\" />\\n<link rel=\"stylesheet\" href=\"https://cdnjs.cloudflare.com/ajax/libs/font-awesome/6.7.2/css/all.min.css\" integrity=\"sha512-Evv84Mr4kqVGRNSgIGL/F/aIDqQb7xQ2vcrdIwxfjThSH8CSR7PBEakCr51Ck+w+/U6swU2Im1vVX0SVk9ABhg==\" crossorigin=\"anonymous\" referrerpolicy=\"no-referrer\" />\\n<meta property=\"og:url\" content=\"https://companiesmarketcap.com/tesla/revenue/\" />\\n<meta name=\"robots\" content=\"INDEX,FOLLOW\" />\\n<meta name=\"msapplication-TileColor\" content=\"#ffffff\">\\n<meta name=\"msapplication-TileImage\" content=\"/img/icons/ms-icon-144x144.png\">\\n<meta name=\"theme-color\" content=\"#ffffff\">\\n<meta name=\"viewport\" content=\"width=device-width, initial-scale=1.0\">\\n<meta http-equiv=\"content-language\" content=\"en-US\">\\n<meta property=\"og:title\" content=\"Tesla (TSLA) - Revenue\">\\n<meta property=\"og:type\" content=\"website\" />\\n<meta property=\"og:description\" content=\"Current and historical revenue charts for Tesla. As of January 2025 Tesla\\'s TTM revenue is of $97.15 Billion USD\">\\n<meta property=\"og:image\" content=\"https://companiesmarketcap.com/logo.png\">\\n<meta name=\"description\" content=\"Current and historical revenue charts for Tesla. As of January 2025 Tesla\\'s TTM revenue is of $97.15 Billion USD\">\\n<link rel=\"stylesheet\" type=\"text/css\" href=\"./r-bt-replacement.css\">\\n<link rel=\"stylesheet\" type=\"text/css\" href=\"./r-style.css\">\\n<script>\\ncurrent_locale = \"usd\";\\ncurrent_locale_path = \"\";\\n\\ncurrent_marketcap_path = \"marketcap\";\\n</script>\\n\\n<script async src=\"https://cdn.fuseplatform.net/publift/tags/2/3432/fuse.js\"></script></head>\\n<body class=\"cmkt\" id=\"cmkt\">\\n\\n<div class=\"row site-header-row\">\\n    <div class=\"site-header\">\\n        <span style=\"display: inline-flex; margin-top: 2px;\">\\n                <span class=\"max-width-720px-hidden\">\\n                        Companies: <span class=\"font-weight-bold\">10,443</span> &nbsp;&nbsp;&nbsp;\\n                        total market cap: <span class=\"font-weight-bold\">$110.913 T</span>\\n                </span>\\n        </span>\\n    </div>\\n</div>\\n<nav class=\"navbar nav-bar-companiesmarketcap navbar-expand-lg navbar-light\">\\n  <div class=\"navbar-collapse-container\">\\n  <button class=\"navbar-toggler\" type=\"button\" data-toggle=\"collapse\" data-target=\"#navbarSupportedContent\" aria-controls=\"navbarSupportedContent\" aria-expanded=\"false\" aria-label=\"Toggle navigation\">\\n    <span class=\"navbar-toggler-icon\"></span>\\n  </button>\\n\\n    <form class=\"search-form form-inline\">\\n      <input id=\"search-input\" class=\"form-control search-input\" type=\"search\" placeholder=\"Company name, ticker...\" aria-label=\"Company name, ticker...\" autocomplete=\"off\">\\n      <button onclick=\"return false;\" class=\"btn-search\" type=\"submit\" disabled=\"\"><svg xmlns=\"http://www.w3.org/2000/svg\" viewBox=\"0 0 14 14\" width=\"18\" height=\"18\"><g stroke-width=\"2\" stroke=\"#6c6c6c\" fill=\"none\"><path d=\"M11.29 11.71l-4-4\"></path><circle cx=\"5\" cy=\"5\" r=\"4\"></circle></g></svg></button>\\n      <div id=\"typeahead-search-results\" class=\"typeahead-search-results\"></div>\\n    </form>\\n\\n  <div class=\"collapse navbar-collapse\" id=\"navbarSupportedContent\">\\n\\n    <a style=\"pointer-events: none\" href=\"/\" title=\"CompaniesMarketCap.com - companies ranked by market capitalization\" class=\"responsive-hidden\">\\n\\t<div class=\"companiesmarketcap-logo\"></div>\\n    </a>\\n    <ul class=\"navbar-nav\">\\n      <li class=\"nav-item\">\\n        <a style=\"pointer-events: none\" class=\"nav-link nav-link-companiesmarketcap\" href=\"/\">Global ranking</a>\\n      </li>\\n      <li class=\"nav-item dropdown megamenu-li\">\\n       <a style=\"pointer-events: none\" style=\"pointer-events: none\" class=\"nav-link nav-link-companiesmarketcap dropdown-toggle\" href=\"#\" id=\"dropdown-countries\" style=\"pointer-events: none\" data-toggle=\"dropdown\" aria-haspopup=\"true\" aria-expanded=\"false\">Ranking by countries</a>\\n       </div>\\n      </li>\\n\\n      <li class=\"nav-item dropdown megamenu-li max-width-650px-shown\">\\n        <a class=\"nav-link nav-link-companiesmarketcap\"  style=\"pointer-events: none;\" href=\"/watchlist/\"><img class=\"fav-icon dark-shown\" alt=\"favorite icon\" src=\"/img/fav.svg?v=3\"><img class=\"fav-icon dark-hidden\" alt=\"favorite icon\" src=\"/img/fav4.svg?v=3\"> Watchlist</a>\\n        <a class=\"nav-link nav-link-companiesmarketcap\" style=\"pointer-events: none;\" href=\"/account/\"><img class=\"account-icon dark-shown\" alt=\"favorite icon\" src=\"/img/account.svg?v=3\"><img class=\"account-icon dark-hidden\" alt=\"favorite icon\" src=\"/img/account4.svg?v=3\"> Account</a>\\n      </span>\\n\\n    </ul>    </div>\\n  </div>\\n</nav>\\n\\n<div style=\"background-color: #e98383; padding: 20px; border: 1px solid #ccc; font-family: Arial, sans-serif; font-size: 14px; color: #333;\">\\n  <strong>Descargo de Responsabilidad</strong><br>\\n  Esta página ha sido copiada de <a href=\"https://companiesmarketcap.com/tesla/revenue\" target=\"_blank\" style=\"color: #0066cc; text-decoration: none;\">\"Companies Market Cap\"</a> con fines educativos. Todos los derechos de autor y otros derechos relacionados con el contenido original pertenecen a sus respectivos autores. Esta copia se ha realizado únicamente para fines de aprendizaje. Si eres el propietario del contenido y deseas que se retire, por favor contáctanos.\\n</div> \\n\\n<div align=\"center\">\\n<div style=\"min-height:90px;\"><div data-fuse=\"23022329499\"></div> <div class=\"recoverub-container hidden\"></div> </div></div>\\n\\n<div class=\"table-container\">\\n    <div class=\"row\">\\n        <div class=\"col-lg-2\">\\n\\t    <div class=\"company-logo-container\">\\n\\t\\t<img loading=\"lazy\" class=\"company-profile-logo\" title=\"Tesla Logo\" alt=\"Tesla Logo\" src=\"https://pngimg.com/uploads/tesla_logo/tesla_logo_PNG14.png\" data-img-path=\"./assets/img/pngegg.png\" data-img-dark-path=\"./assets/img/teslalogo.png\">            </div>\\n            <div class=\"company-title-container\">\\n            \\t<div class=\"company-code\">TSLA</div>\\n\\t    </div>\\n        </div>\\n        <div class=\"col-lg-6\">\\n\\t    <div class=\"row\">\\n\\t\\t    <div class=\"info-box\"><div class=\"line1\">#8</div><div class=\"line2\">Rank</div></div>\\n\\t\\t    <div class=\"info-box\"><div class=\"line1\">$1.294 T</div><div class=\"line2\">Marketcap</div></div>\\n\\t\\t    <div class=\"info-box\"><div class=\"line1\"><a href=\"/usa/largest-companies-in-the-usa-by-market-cap/\"><span class=\"responsive-hidden\"> United States</a></span></div><div class=\"line2\">Country</div></div>\\n\\t    </div>\\n\\t    <div class=\"row\">\\n\\t\\t    <div class=\"info-box\"><div class=\"line1\">$403.31</div><div class=\"line2\">Share price</div></div>\\n\\t\\t    <div class=\"info-box\"><div class=\"line1\"><span class=\"percentage-green\">2.17%</span></div><div class=\"line2\">Change (1 day)</div></div>\\n\\t\\t    <div class=\"info-box\"><div class=\"line1\"><span class=\"percentage-green\">83.40%</span></div><div class=\"line2\">Change (1 year)</div></div>\\n\\t    </div>\\n<div class=\"info-box categories-box\">\\n<div class=\"line1\">\\n<a style=\"pointer-events: none\" href=\"/automakers/largest-automakers-by-market-cap/\" class=\"badge badge-light category-badge\">🚗 Automakers</a><a style=\"pointer-events: none\" href=\"/tech/largest-tech-companies-by-market-cap/\" class=\"badge badge-light category-badge\">👩\\u200d💻 Tech</a><a style=\"pointer-events: none\" href=\"/electric-vehicles/largest-ev-companies-by-market-cap/\" class=\"badge badge-light category-badge\">🔋 Electric Vehicles</a><a style=\"pointer-events: none\" href=\"/bitcoin/largest-companies-by-market-cap/\" class=\"badge badge-light category-badge\"> ₿ Bitcoin</a><a style=\"pointer-events: none\" href=\"/manufacturing/largest-manufacturing-companies-by-market-cap/\" class=\"badge badge-light category-badge\"> 🏭 Manufacturing</a><a style=\"pointer-events: none\" href=\"/ev-charging/largest-ev-charging-companies-by-market-cap/\" class=\"badge badge-light category-badge\">🔌\\u200b EV charging</a><a style=\"pointer-events: none\" href=\"/autonomous-driving/largest-autonomous-driving-companies-by-market-cap/\" class=\"badge badge-light category-badge\">🤖 Autonomous driving</a><a style=\"pointer-events: none\" href=\"/artificial-intelligence/largest-ai-companies-by-marketcap/\" class=\"badge badge-light category-badge\">🦾 AI</a></div>\\n<div class=\"line2\">Categories</div>\\n</div>\\n\\n        </div>\\n\\n\\t        <div class=\"col-lg-4 company-description\">\\n\\t\\t<p>Tesla, Inc. is an American company that manufactures and sells electric cars, as well as power storage and photovoltaic systems. The company\\'s goal is to “accelerate the transition to sustainable energy”. The company name is based on the physicist and inventor Nikola Tesla.</p>\\t</div>\\n\\t    </div>\\n\\n\\n\\n\\n    <ul class=\"profile-nav nav nav-tabs mt-4\">\\n  <li class=\"nav-item\">          <a class=\"nav-link\" style=\"pointer-events: none\" href=\"/tesla/marketcap/\">Market cap</a>  </li>  <li class=\"nav-item\">          <a class=\"nav-link active\"  href=\"/tesla/revenue/\">Revenue</a>  </li>  <li class=\"nav-item\">          <a class=\"nav-link\" href=\"earnings.html\">Earnings</a>  </li>  <li class=\"nav-item\">          <a class=\"nav-link tab-medium-hide\" style=\"pointer-events: none\" href=\"/tesla/stock-price-history/\">Price history</a>  </li>  <li class=\"nav-item\">          <a class=\"nav-link tab-medium-hide\" style=\"pointer-events: none\" href=\"/tesla/pe-ratio/\">P/E ratio</a>  </li>  <li class=\"nav-item\">          <a class=\"nav-link tab-medium-hide\" style=\"pointer-events: none\" href=\"/tesla/ps-ratio/\">P/S ratio</a>  </li>  <li class=\"nav-item dropdown position-relative\">\\n    <a class=\"nav-link dropdown-toggle\"  style=\"pointer-events: none\" data-toggle=\"dropdown\" href=\"#\" role=\"button\" aria-haspopup=\"true\" aria-expanded=\"false\">More</a>\\n    <div class=\"dropdown-menu profile-dropdown\">\\n        <a class=\"dropdown-item tab-medium-show\" href=\"/tesla/stock-price-history/\">Price history</a>\\n<a class=\"dropdown-item tab-medium-show\" style=\"pointer-events: none\" href=\"/tesla/pe-ratio/\">P/E ratio</a>\\n<a class=\"dropdown-item tab-medium-show\" style=\"pointer-events: none\" href=\"/tesla/ps-ratio/\">P/S ratio</a>\\n<a class=\"dropdown-item\" style=\"pointer-events: none\" href=\"/tesla/pb-ratio/\">P/B ratio</a>\\n<a class=\"dropdown-item\" style=\"pointer-events: none\" href=\"/tesla/operating-margin/\">Operating margin</a>\\n<a class=\"dropdown-item\" style=\"pointer-events: none\" href=\"/tesla/eps/\">EPS</a>\\n<a class=\"dropdown-item\" style=\"pointer-events: none\" href=\"/tesla/stock-splits/\">Stock Splits</a>\\n<a class=\"dropdown-item\" style=\"pointer-events: none\" href=\"/tesla/shares-outstanding/\">Shares outstanding</a>\\n<a class=\"dropdown-item\" style=\"pointer-events: none\" href=\"/tesla/failure-to-deliver/\">Fails to deliver</a>\\n<a class=\"dropdown-item\" style=\"pointer-events: none\" href=\"/tesla/cost-to-borrow/\">Cost to borrow</a>\\n<a class=\"dropdown-item\" style=\"pointer-events: none\" href=\"/tesla/total-assets/\">Total assets</a>\\n<a class=\"dropdown-item\" style=\"pointer-events: none\" href=\"/tesla/total-liabilities/\">Total liabilities</a>\\n<a class=\"dropdown-item\" style=\"pointer-events: none\" href=\"/tesla/total-debt/\">Total debt</a>\\n<a class=\"dropdown-item\" style=\"pointer-events: none\" href=\"/tesla/cash-on-hand/\">Cash on Hand</a>\\n<a class=\"dropdown-item\" style=\"pointer-events: none\" href=\"/tesla/net-assets/\">Net Assets</a>    </div>\\n  </li>\\n</ul>\\n\\n    <div class=\"profile-container pt-3\">\\n\\t<h1>Revenue for Tesla (TSLA)</h1>\\n                <h2><strong>Revenue in 2024 (TTM): <span class=\"background-ya\">$97.15 Billion USD</span></strong></h2>\\n        \\t<p class=\"mt-2\">\\nAccording to <strong>Tesla</strong>\\'s latest financial reports the company\\'s current revenue (TTM <img class=\"in-text-tooltip ttm-dates-info-icon info-icon tooltip-title responsive-hidden\" tooltip-title=\"2 Oct 2023 - 30 Sep 2024\" src=\"/img/info-icon-grey.svg\">) is <strong>$97.15 Billion USD</strong>. In 2023 the company made a revenue of <strong>$96.77 Billion USD</strong> an increase over the revenue in the year 2022 that were of <strong>$81.46 Billion USD</strong>. The revenue is the total amount of income that a company generates by the sale of goods or services. Unlike with the <a href=\"earnings.html\">earnings</a> no expenses are subtracted. \\t</p>\\n\\n\\t<div align=\"center\" style=\"margin-bottom: 10px;margin-top: 10px;\"><!-- GAM 71161633/JWSRV_companiesmarketcap/comp_incontent_1 -->\\n</div>\\t\\n    <h3>Annual revenue</h3>\\n    <div style=\"overflow-y: scroll;\">\\n\\t    <table class=\"table\" style=\"width:100%\">\\n\\t        <thead>\\n\\t            <tr>\\n\\t                <th>Year</th>\\n\\t\\t\\t\\t\\t<th>Revenue</th>\\n\\t\\t\\t\\t\\t<th>Change</th>\\n\\t\\t\\t\\t</tr>\\n\\t\\t\\t</thead>\\n\\t\\t<tbody>\\n<tr><td><span class=\"year\">2024</span></td><td>$97.15 B</td><td class=\"percentage-green\">0.39%</td></tr><tr><td><span class=\"year\">2023</span> </td><td>$96.77 B</td><td class=\"percentage-green\">18.8%</td></tr><tr><td><span class=\"year\">2022</span></td><td>$81.46 B</td><td class=\"percentage-green\">51.35%</td></tr><tr><td><span class=\"year\">2021</span></td><td>$53.82 B</td><td class=\"percentage-green\">70.67%</td></tr><tr><td><span class=\"year\">2020</span></td><td>$31.53 B</td><td class=\"percentage-green\">28.31%</td></tr><tr><td><span class=\"year\">2019</span></td><td>$24.57 B</td><td class=\"percentage-green\">14.52%</td></tr><tr><td><span class=\"year\">2018</span></td><td>$21.46 B</td><td class=\"percentage-green\">82.51%</td></tr><tr><td><span class=\"year\">2017</span></td><td>$11.75 B</td><td class=\"percentage-green\">67.98%</td></tr><tr><td><span class=\"year\">2016</span></td><td>$7.00 B</td><td class=\"percentage-green\">73.01%</td></tr><tr><td><span class=\"year\">2015</span></td><td>$4.04 B</td><td class=\"percentage-green\">26.5%</td></tr><tr><td><span class=\"year\">2014</span></td><td>$3.19 B</td><td class=\"percentage-green\">58.85%</td></tr><tr><td><span class=\"year\">2013</span></td><td>$2.01 B</td><td class=\"percentage-green\">387.23%</td></tr><tr><td><span class=\"year\">2012</span></td><td>$0.41 B</td><td class=\"percentage-green\">102.34%</td></tr><tr><td><span class=\"year\">2011</span></td><td>$0.20 B</td><td class=\"percentage-green\">74.95%</td></tr><tr><td><span class=\"year\">2010</span></td><td>$0.11 B</td><td class=\"percentage-green\">4.29%</td></tr><tr><td><span class=\"year\">2009</span> </td><td>$0.11 B</td><td></td></tr>                </tbody>\\n\\t    </table>\\n        </div>\\n\\n<div align=\"center\" style=\"margin-bottom: 10px;margin-top: 10px;\"><!-- GAM 71161633/JWSRV_companiesmarketcap/comp_incontent_1 -->\\n<div data-fuse=\"23022329508\"></div></div><h3>Revenue for similar companies or competitors</h3><div style=\"overflow-y: scroll;\">    <table class=\"table w-100\">        <thead>                <tr>                    <th>Company</th>                        <th>Revenue</th>                        <th>Revenue <span class=\"responsive-hidden\">difference</span><span class=\"responsive-shown\">diff.</span></th>                        <th>Country</th>                    </tr>                </thead>                <tbody><tr><td class=\"name-td\"><a href=\"/apple/revenue/\" style=\"pointer-events: none;\"><div class=\"float-left pt-1\"></div><div class=\"name-div\"><div class=\"company-name\">Apple</div><div class=\"company-code\"><span class=\"rank d-none\"></span>AAPL</div></a></div></td><td>$391.03 B</td><td><span class=\"percentage-green\"> 302.51%</span></td><td> <span class=\"responsive-hidden\">USA</span></td></tr><tr><td class=\"name-td\"><a href=\"/rivian/revenue/\"><div class=\"float-left pt-1\"> </div><div class=\"name-div\"><div class=\"company-name\">Rivian</div><div class=\"company-code\"><span class=\"rank d-none\"></span>RIVN</div></a></div></td><td>$4.55 B</td><td><span class=\"percentage-red\">-95.32%</span></td><td> <span class=\"responsive-hidden\">USA</span></td></tr><tr><td class=\"name-td\"><a href=\"/lucid-motors/revenue/\"><div class=\"float-left pt-1\"></div><div class=\"name-div\"><div class=\"company-name\">Lucid Motors</div><div class=\"company-code\"><span class=\"rank d-none\"></span>LCID</div></a></div></td><td>$0.73 B</td><td><span class=\"percentage-red\">-99.25%</span></td><td> <span class=\"responsive-hidden\">USA</span></td></tr><tr><td class=\"name-td\"><a href=\"/nio/revenue/\"><div class=\"float-left pt-1\"></div><div class=\"name-div\"><div class=\"company-name\">NIO</div><div class=\"company-code\"><span class=\"rank d-none\"></span>NIO</div></a></div></td><td>$8.85 B</td><td><span class=\"percentage-red\">-90.88%</span></td><td> <span class=\"responsive-hidden\">China</span></td></tr>            </tbody>    </table></div>\\n    </div>\\n\\n<script src=\"/js/chart1.js?v=37\"></script>\\n<script type=\"text/javascript\">\\ndata = {\"2024\":97150000000,\"2023\":96773000000,\"2022\":81462000000,\"2021\":53823000000,\"2020\":31536000000,\"2019\":24578000000,\"2018\":21460855000,\"2017\":11758751000,\"2016\":7000132000,\"2015\":4046025000,\"2014\":3198356000,\"2013\":2013496000,\"2012\":413256000,\"2011\":204242000,\"2010\":116744000,\"2009\":111943000};\\nvar chart1 = new CmcChart();\\nchart1.dateFormat = \\'y\\';\\nchart1.currencySymbol = \\'$\\';\\nchart1.loadChart(document.getElementById(\\'marketcapchart\\'), data);\\n</script>\\n\\n\\n</div>\\n\\n<div align=\"center\" style=\"margin-top: 10px;\">\\n<!-- GAM 71161633/JWSRV_companiesmarketcap/home_incontent_4 -->\\n        <div data-fuse=\"23022329505\" ></div></div>\\n\\n<div class=\"footer-container\">\\n\\t<div class=\"footer-section\">\\n\\t\\t<div class=\"footer row\">\\n\\t\\t\\t<div class=\"col-sm-6\">\\n\\t\\t\\t\\t<h4><a href=\"/lexicon/market-cap-of-a-company/\">What is the market capitalization of a company?</a></h4>\\n\\t\\t\\t\\t<p>The market capitalization sometimes referred as Marketcap, is the value of a publicly listed company. <br/>\\n\\t\\t\\t\\tIn most cases it can be easily calculated by multiplying the share price with the amount of outstanding shares. </p>\\n\\t\\t\\t\\t<h4>DISCLAIMER</h4>\\n                                <p>\\n                                CompaniesMarketCap is not associated in any way with CoinMarketCap.com<br/>\\n\\t\\t\\t\\tStock prices are delayed, the delay can range from a few minutes to several hours. <br/>\\n\\t\\t\\t\\tCompany logos are from the <a class=\"text-underline\" style=\"pointer-events: none\" href=\"https://companieslogo.com\">CompaniesLogo.com logo database</a> and belong to their respective copyright holders. Companies Marketcap displays them for editorial purposes only. </p>\\n\\t\\t\\t</div>\\n\\n\\t\\t\\t<div class=\"col-sm-6\">\\n\\t\\t\\t\\t<h4>Contact</h4>\\n                                For inquiries or if you want to report a problem write to <span class=\"contact-email\">hel<span class=\"hidden\">nospam</span>lo@8market<span class=\"hidden\">(nospam)</span>cap.com</span>                                <br/>\\n\\t\\t\\t\\t<br/>\\n\\t\\t\\t\\t<h4>Links</h4>\\n\\t\\t\\t\\t<p>- <a class=\"text-underline\" style=\"pointer-events: none\" href=\"/privacy/\">Privacy policy</a></p>\\n\\t\\t\\t\\t<p>- <a class=\"text-underline\" style=\"pointer-events: none\" href=\"/terms-of-service/\">Terms and conditions</a></p>\\n\\n                                <p class=\"social-media-icons\"><a href=\"https://www.facebook.com/CompaniesMarketCap/\" title=\"Companies Market Cap Facebook page\">\\n<svg xmlns=\"http://www.w3.org/2000/svg\" width=\"20\" height=\"20\" viewBox=\"0 0 155 155\">\\n<path d=\"M89.584,155.139V84.378h23.742l3.562-27.585H89.584V39.184 c0-7.984,2.208-13.425,13.67-13.425l14.595-0.006V1.08C115.325,0.752,106.661,0,96.577,0C75.52,0,61.104,12.853,61.104,36.452 v20.341H37.29v27.585h23.814v70.761H89.584z\"></path>\\n</svg></a>\\n\\n<a style=\"pointer-events: none\" href=\"https://twitter.com/CompaniesMarke1\" title=\"Companies Market Cap Twitter account\">\\n<svg xmlns=\"http://www.w3.org/2000/svg\" width=\"20\" height=\"20\" viewBox=\"80 75 250 250\"><rect fill=\"none\" width=\"30\" height=\"30\"></rect><path d=\"M153.62,301.59c94.34,0,145.94-78.16,145.94-145.94,0-2.22,0-4.43-.15-6.63A104.36,104.36,0,0,0,325,122.47a102.38,102.38,0,0,1-29.46,8.07,51.47,51.47,0,0,0,22.55-28.37,102.79,102.79,0,0,1-32.57,12.45,51.34,51.34,0,0,0-87.41,46.78A145.62,145.62,0,0,1,92.4,107.81a51.33,51.33,0,0,0,15.88,68.47A50.91,50.91,0,0,1,85,169.86c0,.21,0,.43,0,.65a51.31,51.31,0,0,0,41.15,50.28,51.21,51.21,0,0,1-23.16.88,51.35,51.35,0,0,0,47.92,35.62,102.92,102.92,0,0,1-63.7,22A104.41,104.41,0,0,1,75,278.55a145.21,145.21,0,0,0,78.62,23\"></path></svg></a>\\n</p>\\n                                <p>\\n                                &#169; 2024 CompaniesMarketcap.com\\n                                </p>\\n\\t\\t\\t</div>\\n\\t\\t</div>\\n\\t</div>\\n</div>\\n\\n<script src=\"/js/script.js?v=80\"></script>\\n<div id=\"popup-container\" class=\"popup-container hidden\"></div>\\n<script src=\"/js/account.js?v21\"></script><script src=\"/clever_ads.js\"></script>\\n<script>\\n\\nubRecovered = false;\\n\\n\\n(function detectUB(callback) {\\n  var flaggedURL = \\'https://static.getclicky.com/js\\';\\n\\n        var request = new Request(flaggedURL, {\\n        method: \\'GET\\',\\n        mode: \\'no-cors\\',\\n        });\\n        fetch(request)\\n        .then(function(response) {\\n        if (response.status === 200 ) {\\n                callback(false);\\n        }\\n        })\\n        .catch(function(error) {\\n                callback(true);\\n        });\\n        })(function(usingAdblock) {\\n                if(usingAdblock) {\\n                        ub0802dwds = 2;\\n                        recoveUB();\\n                        console.log(\\'using adblock\\');\\n                }\\n        })\\n\\n\\tfunction ae6dd7anadbac(siteID) {\\n\\t\\tvar uuid = \\'\\';\\n\\t\\ttry {\\n\\t\\t\\tif(localStorage.getItem(\"UUID-ae6dd7anadbac\") == undefined) {\\n\\t\\t\\t\\tlocalStorage.setItem(\"UUID-ae6dd7anadbac\", window.crypto.randomUUID());\\n\\t\\t\\t}\\n\\n\\t\\t\\tuuid = localStorage.getItem(\"UUID-ae6dd7anadbac\");\\n\\t\\t} catch(error) {}\\n\\n\\t\\tvar timeOffset = \\'\\';\\n\\t\\ttry {\\n\\t\\t\\ttimeOffset = new Date().getTimezoneOffset()\\n\\t\\t} catch(error) {}\\n\\n\\t\\tvar userLang = \\'\\'; \\n\\t\\ttry {\\n\\t\\t\\tuserLang = navigator.language || navigator.userLanguage; \\n\\t\\t} catch(error) {}\\n\\n\\t\\tvar payload = {\\n\\t\\t\\t\"siteID\" : siteID,\\n\\t\\t\\t\"uuid\" : uuid,\\n\\t\\t\\t\"referrer\" : document.referrer,\\n\\t\\t\\t\"url\" : window.location.href,\\n\\t\\t\\t\"screen_height\": window.screen.height,\\n\\t\\t\\t\"screen_width\": window.screen.width,\\n\\t\\t\\t\"timeOffset\": timeOffset,\\n\\t\\t\\t\"userLang\": userLang,\\n\\t\\t\\t\"blocker\" : ub0802dwds\\n\\t\\t};\\n\\n\\t\\tfetch(\"https://apewisdom.io/c/\", {\\n\\t\\t\\tmethod: \"POST\",\\n\\t\\t\\tbody: JSON.stringify(payload),\\n\\t\\t\\theaders: {\\n\\t\\t\\t\\t\"Content-type\": \"application/json; charset=UTF-8\"\\n\\t\\t\\t}\\n\\t\\t});\\n\\t}\\n\\n\\tsetTimeout(\"ae6dd7anadbac(\\'CMC\\')\", 625);\\n</script>\\n<!-- generation time: 0.002126932144165 --></body>\\n'"
                        ]
                    },
                    "execution_count": 2,
                    "metadata": {},
                    "output_type": "execute_result"
                }
            ],
            "source": [
                "import requests\n",
                "from bs4 import BeautifulSoup\n",
                "import pandas as pd\n",
                "import sqlite3\n",
                "import matplotlib.pyplot as plt\n",
                "\n",
                "# URL \n",
                "url = \"https://companies-market-cap-copy.vercel.app/index.html\"\n",
                "\n",
                "# Download HTML\n",
                "response = requests.get(url)\n",
                "if response.status_code != 200:\n",
                "    raise Exception(f\"Error al acceder a la página: {response.status_code}\")\n",
                "html_content = response.text\n",
                "\n",
                "html_content"
            ]
        },
        {
            "cell_type": "markdown",
            "metadata": {},
            "source": [
                "## Step 3: Transform the HTML"
            ]
        },
        {
            "cell_type": "code",
            "execution_count": null,
            "metadata": {},
            "outputs": [],
            "source": [
                "# Parse the HTML content with BeautifulSoup\n",
                "soup = BeautifulSoup(html_content, \"html.parser\")"
            ]
        },
        {
            "cell_type": "code",
            "execution_count": 4,
            "metadata": {},
            "outputs": [
                {
                    "data": {
                        "text/plain": [
                            "<table class=\"table\" style=\"width:100%\">\n",
                            "<thead>\n",
                            "<tr>\n",
                            "<th>Year</th>\n",
                            "<th>Revenue</th>\n",
                            "<th>Change</th>\n",
                            "</tr>\n",
                            "</thead>\n",
                            "<tbody>\n",
                            "<tr><td><span class=\"year\">2024</span></td><td>$97.15 B</td><td class=\"percentage-green\">0.39%</td></tr><tr><td><span class=\"year\">2023</span> </td><td>$96.77 B</td><td class=\"percentage-green\">18.8%</td></tr><tr><td><span class=\"year\">2022</span></td><td>$81.46 B</td><td class=\"percentage-green\">51.35%</td></tr><tr><td><span class=\"year\">2021</span></td><td>$53.82 B</td><td class=\"percentage-green\">70.67%</td></tr><tr><td><span class=\"year\">2020</span></td><td>$31.53 B</td><td class=\"percentage-green\">28.31%</td></tr><tr><td><span class=\"year\">2019</span></td><td>$24.57 B</td><td class=\"percentage-green\">14.52%</td></tr><tr><td><span class=\"year\">2018</span></td><td>$21.46 B</td><td class=\"percentage-green\">82.51%</td></tr><tr><td><span class=\"year\">2017</span></td><td>$11.75 B</td><td class=\"percentage-green\">67.98%</td></tr><tr><td><span class=\"year\">2016</span></td><td>$7.00 B</td><td class=\"percentage-green\">73.01%</td></tr><tr><td><span class=\"year\">2015</span></td><td>$4.04 B</td><td class=\"percentage-green\">26.5%</td></tr><tr><td><span class=\"year\">2014</span></td><td>$3.19 B</td><td class=\"percentage-green\">58.85%</td></tr><tr><td><span class=\"year\">2013</span></td><td>$2.01 B</td><td class=\"percentage-green\">387.23%</td></tr><tr><td><span class=\"year\">2012</span></td><td>$0.41 B</td><td class=\"percentage-green\">102.34%</td></tr><tr><td><span class=\"year\">2011</span></td><td>$0.20 B</td><td class=\"percentage-green\">74.95%</td></tr><tr><td><span class=\"year\">2010</span></td><td>$0.11 B</td><td class=\"percentage-green\">4.29%</td></tr><tr><td><span class=\"year\">2009</span> </td><td>$0.11 B</td><td></td></tr> </tbody>\n",
                            "</table>"
                        ]
                    },
                    "execution_count": 4,
                    "metadata": {},
                    "output_type": "execute_result"
                }
            ],
            "source": [
                "# Extract the income table\n",
                "table = soup.find(\"table\")  \n",
                "\n",
                "table\n"
            ]
        },
        {
            "cell_type": "code",
            "execution_count": 5,
            "metadata": {},
            "outputs": [
                {
                    "data": {
                        "text/plain": [
                            "[['2024', '$97.15 B'],\n",
                            " ['2023', '$96.77 B'],\n",
                            " ['2022', '$81.46 B'],\n",
                            " ['2021', '$53.82 B'],\n",
                            " ['2020', '$31.53 B'],\n",
                            " ['2019', '$24.57 B'],\n",
                            " ['2018', '$21.46 B'],\n",
                            " ['2017', '$11.75 B'],\n",
                            " ['2016', '$7.00 B'],\n",
                            " ['2015', '$4.04 B'],\n",
                            " ['2014', '$3.19 B'],\n",
                            " ['2013', '$2.01 B'],\n",
                            " ['2012', '$0.41 B'],\n",
                            " ['2011', '$0.20 B'],\n",
                            " ['2010', '$0.11 B'],\n",
                            " ['2009', '$0.11 B']]"
                        ]
                    },
                    "execution_count": 5,
                    "metadata": {},
                    "output_type": "execute_result"
                }
            ],
            "source": [
                "# Extract the rows \n",
                "\n",
                "rows = table.find_all(\"tr\")\n",
                "\n",
                "# Process table data\n",
                "data = []\n",
                "for row in rows[1:]:  # Skip the header row\n",
                "    cols = row.find_all(\"td\")\n",
                "    date = cols[0].text.strip()\n",
                "    revenue = cols[1].text.strip()\n",
                "    data.append([date, revenue])\n",
                "\n",
                "data"
            ]
        },
        {
            "cell_type": "code",
            "execution_count": 6,
            "metadata": {},
            "outputs": [
                {
                    "data": {
                        "text/html": [
                            "<div>\n",
                            "<style scoped>\n",
                            "    .dataframe tbody tr th:only-of-type {\n",
                            "        vertical-align: middle;\n",
                            "    }\n",
                            "\n",
                            "    .dataframe tbody tr th {\n",
                            "        vertical-align: top;\n",
                            "    }\n",
                            "\n",
                            "    .dataframe thead th {\n",
                            "        text-align: right;\n",
                            "    }\n",
                            "</style>\n",
                            "<table border=\"1\" class=\"dataframe\">\n",
                            "  <thead>\n",
                            "    <tr style=\"text-align: right;\">\n",
                            "      <th></th>\n",
                            "      <th>Date</th>\n",
                            "      <th>Revenue</th>\n",
                            "    </tr>\n",
                            "  </thead>\n",
                            "  <tbody>\n",
                            "    <tr>\n",
                            "      <th>15</th>\n",
                            "      <td>2009</td>\n",
                            "      <td>$0.11 B</td>\n",
                            "    </tr>\n",
                            "    <tr>\n",
                            "      <th>14</th>\n",
                            "      <td>2010</td>\n",
                            "      <td>$0.11 B</td>\n",
                            "    </tr>\n",
                            "    <tr>\n",
                            "      <th>13</th>\n",
                            "      <td>2011</td>\n",
                            "      <td>$0.20 B</td>\n",
                            "    </tr>\n",
                            "    <tr>\n",
                            "      <th>12</th>\n",
                            "      <td>2012</td>\n",
                            "      <td>$0.41 B</td>\n",
                            "    </tr>\n",
                            "    <tr>\n",
                            "      <th>11</th>\n",
                            "      <td>2013</td>\n",
                            "      <td>$2.01 B</td>\n",
                            "    </tr>\n",
                            "    <tr>\n",
                            "      <th>10</th>\n",
                            "      <td>2014</td>\n",
                            "      <td>$3.19 B</td>\n",
                            "    </tr>\n",
                            "    <tr>\n",
                            "      <th>9</th>\n",
                            "      <td>2015</td>\n",
                            "      <td>$4.04 B</td>\n",
                            "    </tr>\n",
                            "    <tr>\n",
                            "      <th>8</th>\n",
                            "      <td>2016</td>\n",
                            "      <td>$7.00 B</td>\n",
                            "    </tr>\n",
                            "    <tr>\n",
                            "      <th>7</th>\n",
                            "      <td>2017</td>\n",
                            "      <td>$11.75 B</td>\n",
                            "    </tr>\n",
                            "    <tr>\n",
                            "      <th>6</th>\n",
                            "      <td>2018</td>\n",
                            "      <td>$21.46 B</td>\n",
                            "    </tr>\n",
                            "    <tr>\n",
                            "      <th>5</th>\n",
                            "      <td>2019</td>\n",
                            "      <td>$24.57 B</td>\n",
                            "    </tr>\n",
                            "    <tr>\n",
                            "      <th>4</th>\n",
                            "      <td>2020</td>\n",
                            "      <td>$31.53 B</td>\n",
                            "    </tr>\n",
                            "    <tr>\n",
                            "      <th>3</th>\n",
                            "      <td>2021</td>\n",
                            "      <td>$53.82 B</td>\n",
                            "    </tr>\n",
                            "    <tr>\n",
                            "      <th>2</th>\n",
                            "      <td>2022</td>\n",
                            "      <td>$81.46 B</td>\n",
                            "    </tr>\n",
                            "    <tr>\n",
                            "      <th>1</th>\n",
                            "      <td>2023</td>\n",
                            "      <td>$96.77 B</td>\n",
                            "    </tr>\n",
                            "    <tr>\n",
                            "      <th>0</th>\n",
                            "      <td>2024</td>\n",
                            "      <td>$97.15 B</td>\n",
                            "    </tr>\n",
                            "  </tbody>\n",
                            "</table>\n",
                            "</div>"
                        ],
                        "text/plain": [
                            "    Date   Revenue\n",
                            "15  2009   $0.11 B\n",
                            "14  2010   $0.11 B\n",
                            "13  2011   $0.20 B\n",
                            "12  2012   $0.41 B\n",
                            "11  2013   $2.01 B\n",
                            "10  2014   $3.19 B\n",
                            "9   2015   $4.04 B\n",
                            "8   2016   $7.00 B\n",
                            "7   2017  $11.75 B\n",
                            "6   2018  $21.46 B\n",
                            "5   2019  $24.57 B\n",
                            "4   2020  $31.53 B\n",
                            "3   2021  $53.82 B\n",
                            "2   2022  $81.46 B\n",
                            "1   2023  $96.77 B\n",
                            "0   2024  $97.15 B"
                        ]
                    },
                    "execution_count": 6,
                    "metadata": {},
                    "output_type": "execute_result"
                }
            ],
            "source": [
                "# Create a DataFrame with the extracted data\n",
                "df = pd.DataFrame(data, columns=[\"Date\", \"Revenue\"])\n",
                "\n",
                "# Sort the data by the 'Date' column in ascending order \n",
                "df = df.sort_values(\"Date\")\n",
                "\n",
                "df"
            ]
        },
        {
            "cell_type": "markdown",
            "metadata": {},
            "source": [
                "## Step 4: Process the DataFrame"
            ]
        },
        {
            "cell_type": "code",
            "execution_count": 7,
            "metadata": {},
            "outputs": [
                {
                    "data": {
                        "text/plain": [
                            "15     0.11\n",
                            "14     0.11\n",
                            "13     0.20\n",
                            "12     0.41\n",
                            "11     2.01\n",
                            "10     3.19\n",
                            "9      4.04\n",
                            "8      7.00\n",
                            "7     11.75\n",
                            "6     21.46\n",
                            "5     24.57\n",
                            "4     31.53\n",
                            "3     53.82\n",
                            "2     81.46\n",
                            "1     96.77\n",
                            "0     97.15\n",
                            "Name: Revenue, dtype: float64"
                        ]
                    },
                    "execution_count": 7,
                    "metadata": {},
                    "output_type": "execute_result"
                }
            ],
            "source": [
                "# Clean and convert the income values to numbers\n",
                "def convert_revenue(value):\n",
                "    if \"B\" in value:\n",
                "        edit_value = float(value.replace(\"B\", \"\").replace(\"$\", \"\").replace(\",\", \"\"))\n",
                "        return edit_value\n",
                "\n",
                "\n",
                "df[\"Revenue\"] = df[\"Revenue\"].apply(convert_revenue)\n",
                "\n",
                "df[\"Revenue\"]"
            ]
        },
        {
            "cell_type": "markdown",
            "metadata": {},
            "source": [
                "## Step 5: Store the data in sqlite"
            ]
        },
        {
            "cell_type": "code",
            "execution_count": 8,
            "metadata": {},
            "outputs": [],
            "source": [
                "# Connect to SQLite and save the data\n",
                "conn = sqlite3.connect(\"tesla_revenues.db\")\n",
                "cursor = conn.cursor()"
            ]
        },
        {
            "cell_type": "code",
            "execution_count": 13,
            "metadata": {},
            "outputs": [
                {
                    "data": {
                        "text/plain": [
                            "<sqlite3.Cursor at 0x75e0d5ab7240>"
                        ]
                    },
                    "execution_count": 13,
                    "metadata": {},
                    "output_type": "execute_result"
                }
            ],
            "source": [
                "# Create table in SQLite\n",
                "cursor.execute(\"\"\"\n",
                "CREATE TABLE IF NOT EXISTS revenue (\n",
                "    date TEXT,\n",
                "    revenue REAL\n",
                ")\n",
                "\"\"\")"
            ]
        },
        {
            "cell_type": "code",
            "execution_count": 14,
            "metadata": {},
            "outputs": [],
            "source": [
                "# Insert data into the database\n",
                "for index, row in df.iterrows():\n",
                "    cursor.execute(\"INSERT INTO revenue (date, revenue) VALUES (?, ?)\", (row[\"Date\"], row[\"Revenue\"]))\n",
                "\n",
                "conn.commit()\n",
                "conn.close()"
            ]
        },
        {
            "cell_type": "markdown",
            "metadata": {},
            "source": [
                "## Step 6: Visualize the data"
            ]
        },
        {
            "cell_type": "markdown",
            "metadata": {},
            "source": [
                "### Time serie visualization"
            ]
        },
        {
            "cell_type": "code",
            "execution_count": 15,
            "metadata": {},
            "outputs": [
                {
                    "data": {
                        "image/png": "[encoded data removed]",
                        "text/plain": [
                            "<Figure size 1000x600 with 1 Axes>"
                        ]
                    },
                    "metadata": {},
                    "output_type": "display_data"
                }
            ],
            "source": [
                "# Plot the data\n",
                "plt.figure(figsize=(10, 6))\n",
                "plt.plot(df[\"Date\"], df[\"Revenue\"], marker='o', label=\"Revenue\")\n",
                "plt.title(\"Tesla annual revenue\")\n",
                "plt.xlabel(\"Date\")\n",
                "plt.ylabel(\"Revenue in billions (USD)\")\n",
                "plt.xticks(rotation=45)\n",
                "plt.legend()\n",
                "plt.grid(True)\n",
                "\n",
                "# Save and display the chart\n",
                "plt.savefig(\"revenue_plot.png\")\n",
                "plt.show()"
            ]
        },
        {
            "cell_type": "markdown",
            "metadata": {},
            "source": [
                "\n",
                "## Extra \n",
                "\n",
                "Using the libraries mentioned earlier, extract Tesla's earnings from the last year from the following URL: https://companies-market-cap-copy.vercel.app/earnings.html\n",
                "\n",
                "Note: This time, we have chosen to write the entire code as a single block. This is how it would appear in a Python script rather than in a Jupyter Notebook."
            ]
        },
        {
            "cell_type": "code",
            "execution_count": 1,
            "metadata": {},
            "outputs": [
                {
                    "name": "stdout",
                    "output_type": "stream",
                    "text": [
                        "Tesla has generated $8,730,000,000.00 in earnings in the year 2024.\n"
                    ]
                }
            ],
            "source": [
                "import requests\n",
                "from bs4 import BeautifulSoup\n",
                "import pandas as pd\n",
                "\n",
                "# URL \n",
                "url = \"https://companies-market-cap-copy.vercel.app/earnings.html\"\n",
                "\n",
                "# Make the request to the page\n",
                "response = requests.get(url)\n",
                "response.raise_for_status() \n",
                "\n",
                "# Parse the HTML content\n",
                "html = BeautifulSoup(response.text, \"html.parser\")\n",
                "\n",
                "# Extract the annual earnings table\n",
                "table = html.find(\"table\", {\"class\": \"table\"}) \n",
                "rows = table.find_all(\"tr\")[1:] \n",
                "\n",
                "# Extract data and convert it into lists\n",
                "data = []\n",
                "for row in rows:\n",
                "    columns = row.find_all(\"td\")\n",
                "    year = columns[0].text.strip() \n",
                "    earnings = columns[1].text.strip()  \n",
                "    data.append({\"Year\": year, \"Earnings\": earnings})\n",
                "\n",
                "# Create a DataFrame with the data\n",
                "df = pd.DataFrame(data)\n",
                "\n",
                "# Convert earnings to numeric values\n",
                "def parse_earnings(value):\n",
                "    try:\n",
                "        value = value.replace(\",\", \"\").replace(\"$\", \"\").strip()\n",
                "        if \"Billion\" in value: \n",
                "            return float(value.replace(\"Billion\", \"\")) * 1_000_000_000\n",
                "        elif \"Million\" in value:\n",
                "            return float(value.replace(\"Million\", \"\")) * 1_000_000_000\n",
                "        elif \"M\" in value:  \n",
                "            return float(value.replace(\"M\", \"\")) * 1_000_000\n",
                "        elif \"B\" in value:\n",
                "            return float(value.replace(\"B\", \"\")) * 1_000_000_000\n",
                "        else:\n",
                "            return float(value)\n",
                "    except ValueError:\n",
                "        print(f\"Warning: Could not convert the value '{value}'. Setting it as NaN.\")\n",
                "        return float(\"nan\") \n",
                "\n",
                "# Clean the 'Year' column\n",
                "def clean_year(value):\n",
                "    try:\n",
                "        return int(value.split()[0]) \n",
                "    except ValueError:\n",
                "        print(f\"Warning: Could not process the year value '{value}'. Setting it as NaN.\")\n",
                "        return float(\"nan\")  \n",
                "\n",
                "df[\"Earnings\"] = df[\"Earnings\"].apply(parse_earnings)\n",
                "df[\"Year\"] = df[\"Year\"].apply(clean_year)\n",
                "\n",
                "df = df.sort_values(\"Year\", ascending=False)\n",
                "\n",
                "# Get the row for the most recent year and its earnings\n",
                "last_year_row = df.iloc[0]  \n",
                "\n",
                "# Extract the specific year from that row\n",
                "last_year = int(last_year_row[\"Year\"])\n",
                "\n",
                "menssage = f\"Tesla has generated ${last_year_row['Earnings']:,.2f} in earnings in the year {last_year}.\"\n",
                "\n",
                "# Display the result\n",
                "print(menssage)"
            ]
        }
    ],
    "metadata": {
        "kernelspec": {
            "display_name": "Python 3",
            "language": "python",
            "name": "python3"
        },
        "language_info": {
            "codemirror_mode": {
                "name": "ipython",
                "version": 3
            },
            "file_extension": ".py",
            "mimetype": "text/x-python",
            "name": "python",
            "nbconvert_exporter": "python",
            "pygments_lexer": "ipython3",
            "version": "3.11.4"
        },
        "orig_nbformat": 4
    },
    "nbformat": 4,
    "nbformat_minor": 2
}
